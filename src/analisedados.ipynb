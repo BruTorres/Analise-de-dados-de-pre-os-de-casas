{
 "cells": [
  {
   "cell_type": "code",
   "execution_count": null,
   "metadata": {},
   "outputs": [],
   "source": [
    "import pandas as pd\n",
    "import numpy as np\n",
    "import seaborn as sns\n",
    "import matplotlib.pyplot as plt\n",
    "from scipy.stats import f_oneway\n",
    "import statsmodels.api as sm\n",
    "from scipy.stats import shapiro\n",
    "from scipy.stats import levene\n",
    "from sklearn.preprocessing import (OrdinalEncoder, OneHotEncoder, Normalizer, StandardScaler)\n",
    "\n",
    "treino = pd.read_csv('train.csv') \n",
    "\n",
    "treino.describe()"
   ]
  },
  {
   "cell_type": "code",
   "execution_count": null,
   "metadata": {},
   "outputs": [],
   "source": [
    "treino.info()"
   ]
  },
  {
   "cell_type": "code",
   "execution_count": null,
   "metadata": {},
   "outputs": [],
   "source": [
    "num_cols = treino.select_dtypes(include=[np.number]).columns.tolist()\n",
    "cat_cols = treino.select_dtypes(include=[object]).columns.tolist()\n",
    "\n",
    "missing_values = treino.isnull().sum()\n",
    "missing_percentage = (missing_values / len(treino)) * 100\n",
    "\n",
    "print(\"Variáveis Numéricas:\\n\")\n",
    "for col in num_cols:\n",
    "    print(f\"  - {col}\")\n",
    "\n",
    "print(\"\\nVariáveis Categóricas:\\n\")\n",
    "for col in cat_cols:\n",
    "    print(f\"  - {col}\")\n",
    "\n",
    "print(\"\\nValores Faltantes:\\n\")\n",
    "for col, val in missing_values[missing_values > 0].items():\n",
    "    print(f\"  - {col}: {val} valores faltantes ({missing_percentage[col]:.2f}%)\")"
   ]
  },
  {
   "cell_type": "code",
   "execution_count": null,
   "metadata": {},
   "outputs": [],
   "source": [
    "plt.figure(figsize=(20, 30))\n",
    "for i, col in enumerate(num_cols):\n",
    "    plt.subplot(10, 4, i + 1)\n",
    "    sns.histplot(treino[col], kde=True, bins=30, color='blue')\n",
    "    plt.title(col)\n",
    "    plt.tight_layout()\n",
    "plt.show()\n",
    "\n",
    "summary_numeric = {}\n",
    "for col in num_cols:\n",
    "    summary_numeric[col] = treino[col].describe()\n",
    "\n",
    "for col, stats in summary_numeric.items():\n",
    "    print(f\"\\nEstatísticas para coluna '{col}':\\n{stats}\")"
   ]
  },
  {
   "cell_type": "code",
   "execution_count": null,
   "metadata": {},
   "outputs": [],
   "source": [
    "num_cat_cols = len(cat_cols)\n",
    "num_rows = (num_cat_cols // 2) + (num_cat_cols % 2)\n",
    "plt.figure(figsize=(20, num_rows * 6))\n",
    "\n",
    "for i, col in enumerate(cat_cols, 1):\n",
    "    plt.subplot(num_rows, 2, i)\n",
    "    sns.histplot(x=col, data=treino, color='blue')\n",
    "    plt.title(f'Distribuição de {col}')\n",
    "    plt.xticks(rotation=45)\n",
    "    plt.tight_layout()\n",
    "\n",
    "plt.show()\n",
    "\n",
    "summary_categorical = {}\n",
    "for col in cat_cols:\n",
    "    summary_categorical[col] = treino[col].describe()\n",
    "\n",
    "for col, stats in summary_categorical.items():\n",
    "    print(f\"\\nEstatísticas para coluna '{col}':\\n{stats}\")"
   ]
  },
  {
   "cell_type": "code",
   "execution_count": null,
   "metadata": {},
   "outputs": [],
   "source": [
    "correlations = treino[num_cols].corr()['SalePrice'].sort_values(ascending=False)\n",
    "\n",
    "top_correlations = correlations.head(11)\n",
    "print(\"Top 10 correlações com SalePrice:\\n\", top_correlations)\n",
    "\n",
    "bottom_correlations = correlations.tail(10)\n",
    "print(\"\\nBottom 10 correlações com SalePrice:\\n\", bottom_correlations)"
   ]
  },
  {
   "cell_type": "code",
   "execution_count": null,
   "metadata": {},
   "outputs": [],
   "source": [
    "anova_results = []\n",
    "\n",
    "for col in cat_cols:\n",
    "    categories = treino[col].unique()\n",
    "    \n",
    "    if all(treino[treino[col] == category]['SalePrice'].count() > 1 for category in categories):\n",
    "        try:\n",
    "            anova = f_oneway(*[treino[treino[col] == category]['SalePrice'] for category in categories])\n",
    "            anova_results.append((col, anova.statistic, anova.pvalue))\n",
    "        except Exception as e:\n",
    "            print(f\"Erro ao calcular ANOVA para {col}: {e}\")\n",
    "\n",
    "df_anova = pd.DataFrame(anova_results, columns=['Variável Categórica', 'F-statistic', 'p-value'])\n",
    "\n",
    "df_anova.sort_values(by='p-value', ascending=True, inplace=True)\n",
    "\n",
    "top_10_correlations = df_anova.head(10)\n",
    "\n",
    "print(\"As 10 maiores correlações:\")\n",
    "print(top_10_correlations)\n",
    "\n",
    "bottom_10_correlations = df_anova.tail(10)\n",
    "\n",
    "print(\"\\nAs 10 menores correlações:\")\n",
    "print(bottom_10_correlations)"
   ]
  },
  {
   "cell_type": "code",
   "execution_count": null,
   "metadata": {},
   "outputs": [],
   "source": [
    "correlation_matrix = treino[num_cols].corr()\n",
    "plt.figure(figsize=(22, 10))\n",
    "sns.heatmap(correlation_matrix, annot=True, cmap='coolwarm', fmt='.2f', linewidths=0.5)\n",
    "plt.title('Matriz de Correlação')\n",
    "plt.show()"
   ]
  },
  {
   "cell_type": "code",
   "execution_count": null,
   "metadata": {},
   "outputs": [],
   "source": [
    "s_palette = 'viridis'"
   ]
  },
  {
   "cell_type": "code",
   "execution_count": null,
   "metadata": {},
   "outputs": [],
   "source": [
    "plt.figure(figsize=(20, 6))\n",
    "sns.barplot(x='Neighborhood', y='SalePrice', data=treino, palette='coolwarm', errorbar=None)\n",
    "plt.title('SalePrice por Neighbourhood')\n",
    "plt.xlabel('Neighbourhood')\n",
    "plt.ylabel('SalePrice')\n",
    "plt.show()"
   ]
  },
  {
   "cell_type": "code",
   "execution_count": null,
   "metadata": {},
   "outputs": [],
   "source": [
    "plt.figure(figsize=(10, 6))\n",
    "sns.barplot(x='OverallQual', y='SalePrice', data=treino, palette='YlOrBr', errorbar=None)\n",
    "plt.title('SalePrice por OverallQual')\n",
    "plt.xlabel('OverallQual')\n",
    "plt.ylabel('SalePrice')\n",
    "plt.show()"
   ]
  },
  {
   "cell_type": "code",
   "execution_count": null,
   "metadata": {},
   "outputs": [],
   "source": [
    "plt.figure(figsize=(10, 6))\n",
    "sns.scatterplot(x='GrLivArea', y='SalePrice', data=treino, alpha=0.7 , hue='SalePrice', palette=s_palette)\n",
    "plt.title('SalePrice por GrLivArea')\n",
    "plt.xlabel('GrLivArea')\n",
    "plt.ylabel('SalePrice')\n",
    "plt.legend().remove()\n",
    "plt.show()"
   ]
  },
  {
   "cell_type": "code",
   "execution_count": null,
   "metadata": {},
   "outputs": [],
   "source": [
    "plt.figure(figsize=(10, 6))\n",
    "sns.barplot(x='GarageCars', y='SalePrice', data=treino, palette='Blues', errorbar=None)\n",
    "plt.title('SalePrice por GarageCars')\n",
    "plt.xlabel('GarageCars')\n",
    "plt.ylabel('SalePrice')\n",
    "plt.show()"
   ]
  },
  {
   "cell_type": "code",
   "execution_count": null,
   "metadata": {},
   "outputs": [],
   "source": [
    "plt.figure(figsize=(10, 6))\n",
    "sns.lineplot(x='GarageArea', y='SalePrice', data=treino, color='blue')\n",
    "plt.title('SalePrice por GarageArea (Line Plot)')\n",
    "plt.xlabel('GarageArea')\n",
    "plt.ylabel('SalePrice')\n",
    "plt.show()"
   ]
  },
  {
   "cell_type": "code",
   "execution_count": null,
   "metadata": {},
   "outputs": [],
   "source": [
    "plt.figure(figsize=(10, 6))\n",
    "sns.lineplot(x='TotalBsmtSF', y='SalePrice', data=treino, color='blue')\n",
    "plt.title('SalePrice por TotalBsmtBF')\n",
    "plt.xlabel('TotalBsmtBF')\n",
    "plt.ylabel('SalePrice')\n",
    "plt.show()"
   ]
  },
  {
   "cell_type": "code",
   "execution_count": null,
   "metadata": {},
   "outputs": [],
   "source": [
    "plt.figure(figsize=(10, 6))\n",
    "sns.scatterplot(x='1stFlrSF', y='SalePrice', data=treino, alpha=0.7 , hue='SalePrice', palette=s_palette)\n",
    "plt.title('SalePrice por 1stFlrSF')\n",
    "plt.xlabel('1stFlrSF')\n",
    "plt.ylabel('SalePrice')\n",
    "plt.legend().remove()\n",
    "plt.show()"
   ]
  },
  {
   "cell_type": "code",
   "execution_count": null,
   "metadata": {},
   "outputs": [],
   "source": [
    "plt.figure(figsize=(10, 6))\n",
    "sns.barplot(x='FullBath', y='SalePrice', data=treino, palette='magma', errorbar=None)\n",
    "plt.title('SalePrice por FullBath')\n",
    "plt.xlabel('FullBath')\n",
    "plt.ylabel('SalePrice')\n",
    "plt.show()"
   ]
  },
  {
   "cell_type": "code",
   "execution_count": null,
   "metadata": {},
   "outputs": [],
   "source": [
    "plt.figure(figsize=(10, 6))\n",
    "sns.barplot(x='TotRmsAbvGrd', y='SalePrice', data=treino, palette='Spectral', errorbar=None)\n",
    "plt.title('SalePrice por TotRmsAbvGrd')\n",
    "plt.xlabel('TotRmsAbvGrd')\n",
    "plt.ylabel('SalePrice')\n",
    "plt.show()"
   ]
  },
  {
   "cell_type": "code",
   "execution_count": null,
   "metadata": {},
   "outputs": [],
   "source": [
    "plt.figure(figsize=(10, 6))\n",
    "sns.scatterplot(x='YearBuilt', y='SalePrice', data=treino, alpha=0.7, hue='SalePrice', palette=s_palette)\n",
    "plt.title('SalePrice por YearBuilt')\n",
    "plt.xlabel('YearBuilt')\n",
    "plt.ylabel('SalePrice')\n",
    "plt.legend().remove()  \n",
    "plt.show()"
   ]
  },
  {
   "cell_type": "code",
   "execution_count": null,
   "metadata": {},
   "outputs": [],
   "source": [
    "plt.figure(figsize=(10, 6))\n",
    "sns.scatterplot(x='YearRemodAdd', y='SalePrice', data=treino, alpha=0.7 , hue='SalePrice', palette=s_palette)\n",
    "plt.title('SalePrice por YearRemodAdd')\n",
    "plt.xlabel('YearRemodAdd')\n",
    "plt.ylabel('SalePrice')\n",
    "plt.legend().remove()\n",
    "plt.show()"
   ]
  },
  {
   "cell_type": "code",
   "execution_count": null,
   "metadata": {},
   "outputs": [],
   "source": [
    "top_cat_cols = [\n",
    "    'ExterQual', 'KitchenQual', 'Foundation', \n",
    "    'SaleCondition', 'SaleType', 'MSZoning', 'HouseStyle', \n",
    "    'LotShape', 'CentralAir'\n",
    "]\n",
    "\n",
    "filtered_data = treino[top_cat_cols + ['SalePrice']]\n",
    "\n",
    "plt.figure(figsize=(18, 12))\n",
    "for i, feature in enumerate(top_cat_cols, 1):\n",
    "    plt.subplot(3, 4, i)\n",
    "    sns.barplot(x=feature, y='SalePrice', data=filtered_data, palette='mako', errorbar=None)\n",
    "    plt.title(f'SalePrice por {feature}')\n",
    "    plt.xlabel(feature)\n",
    "    plt.ylabel('SalePrice')\n",
    "    plt.xticks(rotation=45)\n",
    "plt.tight_layout()\n",
    "plt.show()"
   ]
  },
  {
   "cell_type": "code",
   "execution_count": null,
   "metadata": {},
   "outputs": [],
   "source": [
    "neighborhood_prices = treino.groupby('Neighborhood')['SalePrice'].mean().sort_values(ascending=False)\n",
    "\n",
    "top_neighborhoods = neighborhood_prices.head(5).index.tolist()\n",
    "print(\"Bairros com maior preço médio:\")\n",
    "print(top_neighborhoods)"
   ]
  },
  {
   "cell_type": "code",
   "execution_count": null,
   "metadata": {},
   "outputs": [],
   "source": [
    "filtered_data = treino[treino['Neighborhood'].isin(top_neighborhoods)]\n",
    "\n",
    "variables_of_interest = [\n",
    "    'OverallQual', 'GrLivArea', 'GarageCars', 'GarageArea', 'TotalBsmtSF',\n",
    "    '1stFlrSF', 'FullBath', 'TotRmsAbvGrd', 'YearBuilt', 'YearRemodAdd' ,\n",
    "    'ExterQual', 'KitchenQual', 'Foundation', 'HeatingQC', 'SaleCondition'\n",
    "]\n",
    "\n",
    "num_plots = len(variables_of_interest)\n",
    "rows = (num_plots // 4) + 1\n",
    "\n",
    "plt.figure(figsize=(18, 12))\n",
    "for i, feature in enumerate(variables_of_interest, 1):\n",
    "    plt.subplot(rows, 4, i)\n",
    "    if treino[feature].dtype == 'object':  \n",
    "        sns.histplot(filtered_data[feature], bins=20, kde=True, stat='density')\n",
    "        plt.xlabel(feature)\n",
    "        plt.ylabel('Contagem')\n",
    "    else:\n",
    "        sns.histplot(filtered_data[feature], bins=20, kde=True, stat='density')\n",
    "        plt.xlabel(feature)\n",
    "        plt.ylabel('Densidade')\n",
    "    plt.title(f'{feature} - Bairros com Maior Preço Médio')\n",
    "    \n",
    "plt.tight_layout()\n",
    "plt.show()"
   ]
  },
  {
   "cell_type": "code",
   "execution_count": null,
   "metadata": {},
   "outputs": [],
   "source": [
    "neighborhood_prices = treino.groupby('Neighborhood')['SalePrice'].mean().sort_values(ascending=True)\n",
    "\n",
    "bottom_neighborhoods = neighborhood_prices.head(5).index.tolist()\n",
    "print(\"Bairros com menor preço médio:\")\n",
    "print(bottom_neighborhoods)"
   ]
  },
  {
   "cell_type": "code",
   "execution_count": null,
   "metadata": {},
   "outputs": [],
   "source": [
    "filtered_data = treino[treino['Neighborhood'].isin(bottom_neighborhoods)]\n",
    "\n",
    "variables_of_interest = [\n",
    "    'OverallQual', 'GrLivArea', 'GarageCars', 'GarageArea', 'TotalBsmtSF',\n",
    "    '1stFlrSF', 'FullBath', 'TotRmsAbvGrd', 'YearBuilt', 'YearRemodAdd',\n",
    "    'ExterQual', 'KitchenQual', 'Foundation', 'HeatingQC', 'SaleCondition'\n",
    "]\n",
    "\n",
    "num_plots = len(variables_of_interest)\n",
    "rows = (num_plots // 4) + 1\n",
    "\n",
    "plt.figure(figsize=(18, 12))\n",
    "for i, feature in enumerate(variables_of_interest, 1):\n",
    "    plt.subplot(rows, 4, i)\n",
    "    if treino[feature].dtype == 'object':  \n",
    "        sns.histplot(filtered_data[feature], bins=20, kde=True, stat='density')\n",
    "        plt.xlabel(feature)\n",
    "        plt.ylabel('Média de SalePrice')\n",
    "    else:\n",
    "        sns.histplot(filtered_data[feature], bins=20, kde=True, stat='density')\n",
    "        plt.xlabel(feature)\n",
    "        plt.ylabel('Densidade')\n",
    "    plt.title(f'{feature} - Bairros com Menor Preço Médio')\n",
    "    \n",
    "plt.tight_layout()\n",
    "plt.show()"
   ]
  },
  {
   "cell_type": "code",
   "execution_count": null,
   "metadata": {},
   "outputs": [],
   "source": [
    "shapiro_results = {}\n",
    "for col in num_cols:\n",
    "    data = treino[col].dropna() \n",
    "    stat, p_value = shapiro(data)\n",
    "    shapiro_results[col] = {'Estatística': stat, 'Valor p': p_value}\n",
    "\n",
    "for col, result in shapiro_results.items():\n",
    "    print(f\"\\nTeste de Shapiro-Wilk para '{col}':\")\n",
    "    print(f\"  Estatística: {result['Estatística']}\")\n",
    "    print(f\"  Valor p: {result['Valor p']}\")"
   ]
  },
  {
   "cell_type": "code",
   "execution_count": null,
   "metadata": {},
   "outputs": [],
   "source": [
    "levene_results = {}\n",
    "\n",
    "for col in num_cols:\n",
    "    stat, p_value = levene(treino[col].dropna(), treino['SalePrice'].dropna())\n",
    "    levene_results[col] = {'Estatística': stat, 'Valor p': p_value}\n",
    "\n",
    "for col, result in levene_results.items():\n",
    "    print(f\"\\nTeste de Levene para '{col}':\")\n",
    "    print(f\"  Estatística: {result['Estatística']}\")\n",
    "    print(f\"  Valor p: {result['Valor p']}\")"
   ]
  },
  {
   "cell_type": "code",
   "execution_count": null,
   "metadata": {},
   "outputs": [],
   "source": [
    "null_indicatores_num = treino[num_cols].isnull().astype(int)\n",
    "null_indicatores_num['SalePrice'] = treino['SalePrice']\n",
    "\n",
    "null_correlacao = null_indicatores_num.corr()['SalePrice'].sort_values(ascending=False)\n",
    "\n",
    "maiores_corr_numer = null_correlacao.head(10) \n",
    "menores_corr_numer = null_correlacao.tail(10)\n",
    "\n",
    "print(\"Top 10 maiores correlações entre valores nulos e SalePrice:\\n\", maiores_corr_numer)\n",
    "print(\"\\nTop 10 menores correlações entre valores nulos e SalePrice:\\n\", menores_corr_numer)"
   ]
  },
  {
   "cell_type": "code",
   "execution_count": null,
   "metadata": {},
   "outputs": [],
   "source": [
    "plt.figure(figsize=(10, 6))\n",
    "maiores_corr_numer[1:].plot(kind='bar', color='green')\n",
    "plt.title('Top 10 maiores correlações entre valores nulos (numéricas) e SalePrice')\n",
    "plt.ylabel('Correlação')\n",
    "plt.xlabel('Colunas')\n",
    "plt.xticks(rotation=45)\n",
    "plt.tight_layout()\n",
    "plt.show()"
   ]
  },
  {
   "cell_type": "code",
   "execution_count": null,
   "metadata": {},
   "outputs": [],
   "source": [
    "null_indicatores_cat = treino[cat_cols].isnull().astype(int)\n",
    "null_indicatores_cat['SalePrice'] = treino['SalePrice']\n",
    "\n",
    "null_correlacao_cat = null_indicatores_cat.corr()['SalePrice'].sort_values(ascending=False)\n",
    "\n",
    "maiores_corr_cat = null_correlacao_cat.head(20)\n",
    "menores_corr_cat = null_correlacao_cat.tail(10)\n",
    "\n",
    "print(\"Maiores correlações entre valores nulos (categóricas) e SalePrice:\\n\", maiores_corr_cat)\n",
    "print(\"\\nMenores correlações entre valores nulos (categóricas) e SalePrice:\\n\", menores_corr_cat)"
   ]
  },
  {
   "cell_type": "code",
   "execution_count": null,
   "metadata": {},
   "outputs": [],
   "source": [
    "plt.figure(figsize=(10, 6))\n",
    "maiores_corr_cat[1:].plot(kind='bar', color='blue')\n",
    "plt.title('Top 10 maiores correlações entre valores nulos (categóricas) e SalePrice')\n",
    "plt.ylabel('Correlação')\n",
    "plt.xlabel('Colunas')\n",
    "plt.xticks(rotation=45)\n",
    "plt.tight_layout()\n",
    "plt.show()"
   ]
  }
 ],
 "metadata": {
  "language_info": {
   "name": "python"
  }
 },
 "nbformat": 4,
 "nbformat_minor": 2
}
